{
 "cells": [
  {
   "cell_type": "code",
   "execution_count": 1,
   "metadata": {
    "tags": []
   },
   "outputs": [
    {
     "ename": "IndentationError",
     "evalue": "unexpected indent (1587426129.py, line 4)",
     "output_type": "error",
     "traceback": [
      "\u001b[0;36m  Input \u001b[0;32mIn [1]\u001b[0;36m\u001b[0m\n\u001b[0;31m    - Predict - Run - Investigate:\u001b[0m\n\u001b[0m    ^\u001b[0m\n\u001b[0;31mIndentationError\u001b[0m\u001b[0;31m:\u001b[0m unexpected indent\n"
     ]
    }
   ],
   "source": [
    "## ISYS 5103 - Assignment 3\n",
    "\n",
    "### Instructions: For each question below, you will potentially be asked to:\n",
    "    - Predict - Run - Investigate: \n",
    "        - examine the code and write down in a markdown cell what you think the code will do\n",
    "        - run the code and see if your prediction is right or wrong.  If wrong, that is okay. \n",
    "        - if your prediction was wrong, diagnose why, and document why (if you don't know, document that as well)\n",
    "    - Modify:\n",
    "        - take existing code and modify it. Modifying may also include adapting or even fixing a piece of code.\n",
    "    - Make:\n",
    "        - take what we have covered in class and create a piece of code to answer the question.\n",
    "        - most of this will be taking code that already exists from class or in the assignment and adapting it to a new problem\n",
    "\n",
    "#### Submission: Print this Jupyter Notebook as a PDF document and submit it to BlackBoard (filename should be NAME_Assignment3.pdf). "
   ]
  },
  {
   "cell_type": "markdown",
   "metadata": {},
   "source": [
    "<div style=\"background-color: #9D2235; color: white; padding: 10px; \">\n",
    "    \n",
    " ## Enter Your Name and Class Section:\n",
    "    \n",
    "</div>"
   ]
  },
  {
   "cell_type": "code",
   "execution_count": 2,
   "metadata": {
    "tags": []
   },
   "outputs": [
    {
     "name": "stdin",
     "output_type": "stream",
     "text": [
      "Enter your name:  Isaiah Molina\n",
      "Enter your section number:  0001\n"
     ]
    },
    {
     "name": "stdout",
     "output_type": "stream",
     "text": [
      "Name = Isaiah Molina, Section = 0001, Good Luck on your 3rd Assignment!\n"
     ]
    }
   ],
   "source": [
    "# Run this block of code and enter your name and section\n",
    "\n",
    "name = input(\"Enter your name: \")\n",
    "section = input(\"Enter your section number: \")\n",
    "\n",
    "print(\"Name =\", name + \",\", \"Section =\", section + \",\", \"Good Luck on your 3rd Assignment!\")"
   ]
  },
  {
   "cell_type": "markdown",
   "metadata": {},
   "source": [
    "<div style=\"background-color: #9D2235; color: white; padding: 10px; \">\n",
    "  \n",
    "# Functions and Data specific Python Libraries and Classes\n",
    "\n",
    "## In this notebook, we'll look at:\n",
    "- Functions (def)\n",
    "- Libraries and Classes which are focused on working with data\n",
    "-- using the CSV class to \n",
    "    \n",
    "</div>"
   ]
  },
  {
   "cell_type": "markdown",
   "metadata": {},
   "source": [
    "<div style=\"background-color: #9DC9D5; padding: 10px;\">\n",
    "    \n",
    "## Question 1 - Python Libraries:\n",
    "    \n",
    "### Research and find 4 additional Python libraries that are somehow focused on data science.  List them and describe their primary purpose.\n",
    "    \n"
   ]
  },
  {
   "cell_type": "markdown",
   "metadata": {},
   "source": [
    "1. NumPy (Numerical Python): a fundamental Python library for scientific computing. Its primary purpose is to provide support for working with large, multi-dimensional arrays and matrices and a collection of mathematical functions to operate on these arrays efficiently.\n",
    "2. Beautiful Soup(webscraping): Allows you to get data from websites and format it how you please\n",
    "3. Matplotlib(visualizations): Allows you to generate visualizations from data using python\n",
    "4. Plotly (visualizations): Allows you to generate interactive visualizations that can be saved as html files or even saved in jupyter notebook.\n",
    "5. Theano (analytics): allows user to do complex mathmatics without writing the math functions from scratch\n",
    " "
   ]
  },
  {
   "cell_type": "markdown",
   "metadata": {},
   "source": [
    "<div style=\"background-color: #9DC9D5; padding: 10px;\">\n",
    "    <h2 style=\"margin-bottom: 10px;\">Quesiton 2 - Explain the dir() function</h2>\n",
    " \n",
    "    \n",
    "\n",
    "</div>"
   ]
  },
  {
   "cell_type": "markdown",
   "metadata": {},
   "source": [
    "### 1. dir() = Returns a list of capabilities, it tells us something about a variable such as operations an object can perform.\n",
    "  \n",
    "  \n",
    "### "
   ]
  },
  {
   "cell_type": "markdown",
   "metadata": {},
   "source": [
    "<div style=\"background-color: #F2F2F4; padding: 10px;\">\n",
    "    <h3 style=\"margin-bottom: 5px;\">Now, try the dir() on one of the libraries you listed above (not NumPy).  </h3>\n",
    "    <h4 style=\"margin-bottom: 5px;\">Take the example code below and modify it to work with one of your listed Libraries. Update the code notes after the # symbol as well.</h4>  \n",
    "    <h4 style=\"margin-bottom: 5px;\">Hint: you will need to first import in your library like the example below.</h4>    \n",
    "</div>"
   ]
  },
  {
   "cell_type": "code",
   "execution_count": 14,
   "metadata": {},
   "outputs": [
    {
     "name": "stdout",
     "output_type": "stream",
     "text": [
      "['BooleanDtype', 'Categorical', 'CategoricalDtype', 'CategoricalIndex', 'DataFrame', 'DateOffset', 'DatetimeIndex', 'DatetimeTZDtype', 'ExcelFile', 'ExcelWriter', 'Flags', 'Float32Dtype', 'Float64Dtype', 'Float64Index', 'Grouper', 'HDFStore', 'Index', 'IndexSlice', 'Int16Dtype', 'Int32Dtype', 'Int64Dtype', 'Int64Index', 'Int8Dtype', 'Interval', 'IntervalDtype', 'IntervalIndex', 'MultiIndex', 'NA', 'NaT', 'NamedAgg', 'Period', 'PeriodDtype', 'PeriodIndex', 'RangeIndex', 'Series', 'SparseDtype', 'StringDtype', 'Timedelta', 'TimedeltaIndex', 'Timestamp', 'UInt16Dtype', 'UInt32Dtype', 'UInt64Dtype', 'UInt64Index', 'UInt8Dtype', '__all__', '__builtins__', '__cached__', '__deprecated_num_index_names', '__dir__', '__doc__', '__docformat__', '__file__', '__getattr__', '__git_version__', '__loader__', '__name__', '__package__', '__path__', '__spec__', '__version__', '_config', '_is_numpy_dev', '_libs', '_testing', '_typing', '_version', 'api', 'array', 'arrays', 'bdate_range', 'compat', 'concat', 'core', 'crosstab', 'cut', 'date_range', 'describe_option', 'errors', 'eval', 'factorize', 'get_dummies', 'get_option', 'infer_freq', 'interval_range', 'io', 'isna', 'isnull', 'json_normalize', 'lreshape', 'melt', 'merge', 'merge_asof', 'merge_ordered', 'notna', 'notnull', 'offsets', 'option_context', 'options', 'pandas', 'period_range', 'pivot', 'pivot_table', 'plotting', 'qcut', 'read_clipboard', 'read_csv', 'read_excel', 'read_feather', 'read_fwf', 'read_gbq', 'read_hdf', 'read_html', 'read_json', 'read_orc', 'read_parquet', 'read_pickle', 'read_sas', 'read_spss', 'read_sql', 'read_sql_query', 'read_sql_table', 'read_stata', 'read_table', 'read_xml', 'reset_option', 'set_eng_float_format', 'set_option', 'show_versions', 'test', 'testing', 'timedelta_range', 'to_datetime', 'to_numeric', 'to_pickle', 'to_timedelta', 'tseries', 'unique', 'util', 'value_counts', 'wide_to_long']\n"
     ]
    }
   ],
   "source": [
    "import pandas as p #use for data maniplulation\n",
    "\n",
    "# List all methods and attributes of the pandas module\n",
    "print(dir(p)) \n",
    "\n",
    "\n",
    "\n",
    "\n",
    "\n"
   ]
  },
  {
   "cell_type": "markdown",
   "metadata": {},
   "source": [
    "<div style=\"background-color: #9DC9D5; padding: 10px;\">\n",
    "    \n",
    "## Question 3 - Functions\n",
    "#### Using the ```def``` construct, create a function that will calculate the average score.\n",
    "    \n",
    "    - We have provided you a set of code to build upon.\n",
    "    - Your goal is complete the code which should take in a list of scores and return the average of those scores.  \n",
    "    \n",
    "        1 Evaluate the scores parameter and make sure it will not produce a division by zero error if passed nothing.\n",
    "        2 Calculate the total score\n",
    "        3 Calculate the average score\n",
    "        4 Return the average score\n",
    "      \n",
    "    - You are given 3 unit test to try. All should run without error.\n",
    "    \n",
    "</div>\n"
   ]
  },
  {
   "cell_type": "code",
   "execution_count": 15,
   "metadata": {},
   "outputs": [
    {
     "name": "stdout",
     "output_type": "stream",
     "text": [
      "Average score: 94.0\n",
      "Average score: 90.7\n",
      "Average score: 0\n"
     ]
    }
   ],
   "source": [
    "def calculate_average_score(scores):\n",
    "    \n",
    "    # Step 1: you may need to check that scores were provided so you do not get division by zero error\n",
    "    \n",
    "    if len(scores) == 0:\n",
    "        return 0 # Return 0 if the list is empty to avoid division by zero\n",
    "    \n",
    "    # Step 2: if scores not zero then you will want to total the score, then calculate the average, and return the average\n",
    "    total_score = sum(scores)\n",
    "    \n",
    "    # Step 3: if scores not zero then you will want to total the score, then calculate the average, and return the average\n",
    "    average_score = total_score / len(scores)\n",
    "    \n",
    "    # Step 4: if scores not zero then you will want to total the score, then calculate the average, and return the average\n",
    "    return average_score\n",
    "\n",
    "# Test case 1\n",
    "student_scores = [88, 100, 98, 90, 94]\n",
    "average = calculate_average_score(student_scores) #invoke/call the function\n",
    "print(f\"Average score: {average}\")\n",
    "\n",
    "# Test case 2\n",
    "student_scores = [88, 100, 98, 90, 94, 70, 95, 78, 100, 94]\n",
    "average = calculate_average_score(student_scores) #invoke/call the function\n",
    "print(f\"Average score: {average}\")\n",
    "\n",
    "# Test case 3\n",
    "student_scores = []\n",
    "average = calculate_average_score(student_scores) #invoke/call the function\n",
    "print(f\"Average score: {average}\")"
   ]
  },
  {
   "cell_type": "markdown",
   "metadata": {},
   "source": [
    "<div style=\"background-color: #9DC9D5; padding: 10px;\">\n",
    "    \n",
    "## Question 4 - Load a CSV file using the csv.DictReader() class\n",
    "#### Import the Albums.csv file using the CSV library (DO NOT USE PANDAS, that is next week)\n",
    "#### You will need to download from blackboard in the assignment folder and upload into Jupyter. \n",
    "#### The CSV file provided with the assignment includes the following columns:\n",
    "    - Album_Id\n",
    "    - Album\n",
    "    - Band\n",
    "    - Production_Cost\n",
    "    - Album_Sales\n",
    "\n",
    "\n",
    "</div>"
   ]
  },
  {
   "cell_type": "code",
   "execution_count": null,
   "metadata": {},
   "outputs": [],
   "source": [
    "import csv\n",
    "\n",
    "# Define the CSV file path\n",
    "csv_file = 'Albums.csv'\n",
    "\n",
    "# Initialize an empty list to store the dictionaries: name it data_list\n",
    "data_list = []\n",
    "\n",
    "\n",
    "# Open the CSV file\n",
    "with open(csv_file, mode='r') as file:\n",
    "    \n",
    "    # Create a CSV reader object\n",
    "    csv_reader = csv.DictReader(file)\n",
    "    \n",
    "    # Iterate through each row in the CSV file\n",
    "    for row in csv_reader:\n",
    "        # Add the row (which is a dictionary) to the list\n",
    "        data_list.append(row)\n",
    "\n",
    "print(data_list)\n"
   ]
  },
  {
   "cell_type": "markdown",
   "metadata": {},
   "source": [
    "<div style=\"background-color: #9DC9D5; padding: 10px;\">\n",
    "    \n",
    "## Questions 5 - Using the data you have loaded in your data_list, summarize the following:\n",
    "\n",
    "    - What is the total production cost of all albums?\n",
    "    - What is the total sales of all albums?\n",
    "    - What is the average production cost of all albums?\n",
    "    - What is the average of all album sales?\n",
    "    - What is the difference between the total sales and the total production cost of all albums? \n",
    "    \n",
    "</div>\n"
   ]
  },
  {
   "cell_type": "code",
   "execution_count": 23,
   "metadata": {},
   "outputs": [
    {
     "name": "stdout",
     "output_type": "stream",
     "text": [
      "Total Production Cost of All Albums: 32892607.080000035\n",
      "Total Sales of All Albums: 23129975.389999993\n",
      "Average Production Cost of All Albums: 12454.603210904974\n",
      "Average Album Sales: 8758.036876183261\n",
      "Difference Between Total Sales and Total Production Cost: -9762631.690000042\n"
     ]
    }
   ],
   "source": [
    "# Assuming you have data_list populated with data and named data_list\n",
    "\n",
    "# Initialize variables for calculations\n",
    "total_production_cost = 0\n",
    "total_sales = 0\n",
    "\n",
    "# Iterate through the data to calculate total production cost and total sales\n",
    "for album in data_list:\n",
    "    production_cost = float(album['Production_Cost']) #convert to number\n",
    "    total_production_cost += production_cost\n",
    "\n",
    "    sales = float(album['Album_Sales'])\n",
    "    total_sales += sales\n",
    "\n",
    "# Calculate averages\n",
    "num_albums = len(data_list)\n",
    "average_production_cost = total_production_cost / num_albums\n",
    "average_sales = total_sales / num_albums\n",
    "\n",
    "# Calculate the difference\n",
    "difference = total_sales - total_production_cost\n",
    "\n",
    "# Print the results\n",
    "print(\"Total Production Cost of All Albums:\", total_production_cost)\n",
    "print(\"Total Sales of All Albums:\", total_sales)\n",
    "print(\"Average Production Cost of All Albums:\", average_production_cost)\n",
    "print(\"Average Album Sales:\", average_sales)\n",
    "print(\"Difference Between Total Sales and Total Production Cost:\", difference)\n"
   ]
  },
  {
   "cell_type": "code",
   "execution_count": null,
   "metadata": {},
   "outputs": [],
   "source": []
  }
 ],
 "metadata": {
  "kernelspec": {
   "display_name": "Python 3 (ipykernel)",
   "language": "python",
   "name": "python3"
  },
  "language_info": {
   "codemirror_mode": {
    "name": "ipython",
    "version": 3
   },
   "file_extension": ".py",
   "mimetype": "text/x-python",
   "name": "python",
   "nbconvert_exporter": "python",
   "pygments_lexer": "ipython3",
   "version": "3.8.12"
  },
  "vscode": {
   "interpreter": {
    "hash": "d4d1e4263499bec80672ea0156c357c1ee493ec2b1c70f0acce89fc37c4a6abe"
   }
  }
 },
 "nbformat": 4,
 "nbformat_minor": 4
}
