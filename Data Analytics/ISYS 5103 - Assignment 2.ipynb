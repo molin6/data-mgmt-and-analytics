{
 "cells": [
  {
   "cell_type": "markdown",
   "metadata": {
    "tags": []
   },
   "source": [
    "## ISYS 5103 - Assignment 2\n",
    "\n",
    "### Instructions: For each question below, you will potentially be asked to:\n",
    "    - Predict - Run - Investigate: \n",
    "        - examine the code and write down in a markdown cell what you think the code will do\n",
    "        - run the code and see if your prediction is right or wrong.  If wrong, that is okay. \n",
    "        - if your prediction was wrong, diagnose why, and document why (if you don't know, document that as well)\n",
    "    - Modify:\n",
    "        - take existing code and modify it. Modifying may also include adapting or even fixing a piece of code.\n",
    "    - Make:\n",
    "        - take what we have covered in class and create a piece of code to answer the question.\n",
    "        - most of this will be taking code that already exists from class or in the assignment and adapting it to a new problem\n",
    "\n",
    "#### Submission: Print this Jupyter Notebook as a PDF document and submit it to BlackBoard (filename should be NAME_Assignment2.pdf). "
   ]
  },
  {
   "cell_type": "markdown",
   "metadata": {},
   "source": [
    "<div style=\"background-color: #9D2235; color: white; padding: 10px; \">\n",
    "    \n",
    " ## Enter Your Name and Class Section:\n",
    "    \n",
    "</div>"
   ]
  },
  {
   "cell_type": "code",
   "execution_count": 1,
   "metadata": {},
   "outputs": [
    {
     "name": "stdin",
     "output_type": "stream",
     "text": [
      "Enter your name:  Isaiah Molina\n",
      "Enter your section number:  0001\n"
     ]
    },
    {
     "name": "stdout",
     "output_type": "stream",
     "text": [
      "Name = Isaiah Molina, Section = 0001, Good Luck on your 2nd Assignment!\n"
     ]
    }
   ],
   "source": [
    "# Run this block of code and enter your name and section\n",
    "\n",
    "name = input(\"Enter your name: \")\n",
    "section = input(\"Enter your section number: \")\n",
    "\n",
    "print(\"Name =\", name + \",\", \"Section =\", section + \",\", \"Good Luck on your 2nd Assignment!\")"
   ]
  },
  {
   "cell_type": "markdown",
   "metadata": {},
   "source": [
    "<div style=\"background-color: #9D2235; color: white; padding: 10px; \">\n",
    "  \n",
    "# Flow Control\n",
    "\n",
    "## In this notebook, we'll look at:\n",
    "- code blocks\n",
    "- conditional statements\n",
    "- looping statements\n",
    "    \n",
    "</div>"
   ]
  },
  {
   "cell_type": "markdown",
   "metadata": {},
   "source": [
    "<div style=\"background-color: #9DC9D5; padding: 10px;\">\n",
    "    <h2 style=\"margin-bottom: 10px;\">Quesiton 1 - Code blocks</h2>\n",
    "    \n",
    "<pre>\n",
    "<code class=\"language-python\">\n",
    "for i in range(5):\n",
    "    if i % 2:\n",
    "        print(f'{i} is an even number')\n",
    "    else:\n",
    "        print(f'{i} is an odd number')\n",
    "\n",
    "    for j in range(10):\n",
    "        print(j)\n",
    "</code>\n",
    "</pre>\n",
    "</div>"
   ]
  },
  {
   "cell_type": "markdown",
   "metadata": {},
   "source": [
    "What is a code block? A code block is groups of code that start with a declaration/logic like for, if, while.\n",
    "\n",
    "How many code blocks are there in the code above: 3 unless if the else counts then 4"
   ]
  },
  {
   "cell_type": "markdown",
   "metadata": {},
   "source": [
    "<div style=\"background-color: #9DC9D5; padding: 10px;\">\n",
    "    <h2 style=\"margin-bottom: 10px;\">Quesiton 2 - Condition statements</h2>\n",
    "    <h3 style=\"margin-bottom: 5px;\">Predict x:</h3>\n",
    "    \n",
    "<pre>\n",
    "<code class=\"language-python\">\n",
    "if x < 10 :\n",
    "    print('You won a new toy!')\n",
    "elif x < 25 :\n",
    "    print('You won a new moped!')\n",
    "elif x < 50 : \n",
    "    print('You won a dreatm vacation!')\n",
    "elif x < 75 : \n",
    "    print('You won a new car!')\n",
    "elif x < 90:\n",
    "    print('You won a new house!')\n",
    "else :\n",
    "    print('You won the lotto!')\n",
    "</code>\n",
    "</pre>\n",
    "</div>"
   ]
  },
  {
   "cell_type": "markdown",
   "metadata": {},
   "source": [
    "What is the result when x = 50: You won a new car!\n",
    "\n",
    "What is the result when x = 70: You won a new car!\n",
    "\n",
    "What is the result when x = 90: You won the lotto!"
   ]
  },
  {
   "cell_type": "markdown",
   "metadata": {},
   "source": [
    "<div style=\"background-color: #9DC9D5; padding: 10px;\">\n",
    "    \n",
    "## Question 3 - Conditonal statements\n",
    "#### Using an ```if/else``` construct, greet the user appropriately for the time of day (morning, afternoon, evening).\n",
    "    \n",
    "    - We have provided you a set of code to build upon.\n",
    "    - Your goal is complete the code which should have a greeting that takes into account the time of day.  \n",
    "    - The first few lines determine the hour of the day (where 0 is midnight and 23 is 11pm). \n",
    "    \n",
    "        1 Set the my_name variable where the ellipsis is.\n",
    "        2 Under the greeting variable:\n",
    "            -follow the comments and construct your dynamic greeting message based on the current_hour variable.\n",
    "    \n",
    "</div>\n"
   ]
  },
  {
   "cell_type": "code",
   "execution_count": 2,
   "metadata": {},
   "outputs": [
    {
     "name": "stdout",
     "output_type": "stream",
     "text": [
      "The current hour is: 13\n"
     ]
    },
    {
     "name": "stdin",
     "output_type": "stream",
     "text": [
      "What is your name?  Joe\n"
     ]
    },
    {
     "name": "stdout",
     "output_type": "stream",
     "text": [
      "Good Afternoon, Joe!  My name is Isaiah\n"
     ]
    }
   ],
   "source": [
    "# Getting the current time\n",
    "from datetime import datetime as dt\n",
    "import pytz\n",
    "current_hour = dt.now(pytz.timezone(\"US/Central\")).hour\n",
    "print(f'The current hour is: {current_hour}')\n",
    "\n",
    "# Assign the variable to my_name\n",
    "my_name = \"Isaiah\"\n",
    "\n",
    "# Ask for the user's name\n",
    "user_name = input('What is your name? ')\n",
    "\n",
    "# Set the greeting to default to nothing\n",
    "greeting = ''\n",
    "\n",
    "# If the the current hour is less than 12, change the greeting to 'Morning'\n",
    "if current_hour < 12:\n",
    "    greeting = \"Morning\"\n",
    "\n",
    "# Otherwise, if the current hour is between 12 and 17 (5pm) set the greeting to 'Afternoon'\n",
    "elif current_hour >= 12 and current_hour < 17:\n",
    "    greeting = \"Afternoon\"\n",
    "\n",
    "# Otherwise, set the greeting to 'Evening'\n",
    "else:\n",
    "    greeting = \"Evening\"\n",
    "\n",
    "print(f'Good {greeting}, {user_name}!  My name is {my_name}')"
   ]
  },
  {
   "cell_type": "markdown",
   "metadata": {},
   "source": [
    "<div style=\"background-color: #9DC9D5; padding: 10px;\">\n",
    "    <h2 style=\"margin-bottom: 10px;\">Quesiton 4 - Loops</h2>\n",
    "    <h3 style=\"margin-bottom: 5px;\">Predict the output of different loops:</h3>\n",
    "    \n",
    "<pre>\n",
    "<code class=\"language-python\">\n",
    "# Loop 1:\n",
    "for pet_type in ['Dog', 'Cat', 'Bird', 'Turtle', 'Python'] :  \n",
    "   print(pet_type)\n",
    "print(\"Python is our favorite!\")\n",
    "\n",
    "# Loop 2:\n",
    "counter = 100\n",
    "while counter >= 100 :\n",
    "    print('I am a message inside the loop')\n",
    "print('Please End!')\n",
    "\n",
    "# Loop 3:\n",
    "count_down = 10\n",
    "while count_down >= 1 :\n",
    "    print(count_down)\n",
    "    count_down = count_down - 1\n",
    "print('Go Go Go!')\n",
    "\n",
    "</code>\n",
    "</pre>\n",
    "</div>"
   ]
  },
  {
   "cell_type": "markdown",
   "metadata": {},
   "source": [
    "What is your predicted result of Loop 1: Dog \n",
    "Cat \n",
    "Bird \n",
    "Turtle \n",
    "Python \n",
    "Python is our favorite!\n",
    "\n",
    "What is your predicted result of Loop 2: \n",
    "I am a message inside the loop\n",
    "Please End!\n",
    "\n",
    "What is your predicted result of Loop 3:\n",
    "10 \n",
    "9\n",
    "8\n",
    "7\n",
    "6\n",
    "5\n",
    "4\n",
    "3\n",
    "2\n",
    "1\n",
    "Go Go Go!"
   ]
  },
  {
   "cell_type": "markdown",
   "metadata": {},
   "source": [
    "<div style=\"background-color: #9DC9D5; padding: 10px;\">\n",
    "    \n",
    "## Questions 5 - Alphabet Soup\n",
    "For this challenge, using what you have learned about `for` loops and `if` statements to capitalize all the vowels (a,e,i,o,u) in the string provided and print the results.  To help you out, the letters of the alphabet have been provided.  The next cell provides an outline of the steps in English.  Working through the logic in English first can make solving problems a bit easier.  Try working through the steps one by one and translating each line into the Python code that executes the action.  Bonus, leaving the comments in place essentially creates automated documentation for your code!\n",
    "\n",
    "**HINT**: Remember strings are just a sequence of letters which can be iterated and also concatenated simply with `+`.\n",
    "    \n",
    "</div>\n"
   ]
  },
  {
   "cell_type": "code",
   "execution_count": 4,
   "metadata": {},
   "outputs": [
    {
     "name": "stdout",
     "output_type": "stream",
     "text": [
      "AbcdEfghIjklmnOpqrstUvwxyz\n"
     ]
    }
   ],
   "source": [
    "# This is the word for which you should be replacing the vowels\n",
    "alphabet = 'abcdefghijklmnopqrstuvwxyz'\n",
    "\n",
    "# create a variable to hold the new set of letters\n",
    "new_alphabet = \"\"\n",
    "\n",
    "# for each letter in the word provided\n",
    "for letter in alphabet:\n",
    "    #  Example: if the letter is an `a` then add a captial `A` to the new set of letters\n",
    "    if letter == \"a\":\n",
    "        new_alphabet += \"A\"\n",
    "    elif letter == \"e\":\n",
    "        new_alphabet += \"E\"\n",
    "    elif letter == \"i\":\n",
    "        new_alphabet += \"I\"\n",
    "    elif letter == \"o\":\n",
    "        new_alphabet += \"O\"\n",
    "    elif letter == \"u\":\n",
    "        new_alphabet += \"U\"\n",
    "    #  otherwise add the current letter to the new set of letters\n",
    "    else:\n",
    "        new_alphabet += letter\n",
    "    \n",
    "# print the new string\n",
    "print(new_alphabet)"
   ]
  },
  {
   "cell_type": "code",
   "execution_count": null,
   "metadata": {},
   "outputs": [],
   "source": []
  }
 ],
 "metadata": {
  "kernelspec": {
   "display_name": "Python 3 (ipykernel)",
   "language": "python",
   "name": "python3"
  },
  "language_info": {
   "codemirror_mode": {
    "name": "ipython",
    "version": 3
   },
   "file_extension": ".py",
   "mimetype": "text/x-python",
   "name": "python",
   "nbconvert_exporter": "python",
   "pygments_lexer": "ipython3",
   "version": "3.8.12"
  },
  "vscode": {
   "interpreter": {
    "hash": "d4d1e4263499bec80672ea0156c357c1ee493ec2b1c70f0acce89fc37c4a6abe"
   }
  }
 },
 "nbformat": 4,
 "nbformat_minor": 4
}
