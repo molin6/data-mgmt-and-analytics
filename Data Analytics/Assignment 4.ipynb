{
 "cells": [
  {
   "cell_type": "markdown",
   "metadata": {},
   "source": [
    "## ISYS 5103 - Assignment 4\n",
    "\n",
    "### Instructions: For each question below, you will potentially be asked to:\n",
    "    - Predict - Run - Investigate: \n",
    "        - examine the code and write down in a markdown cell what you think the code will do\n",
    "        - run the code and see if your prediction is right or wrong.  If wrong, that is okay. \n",
    "        - if your prediction was wrong, diagnose why, and document why (if you don't know, document that as well)\n",
    "    - Modify:\n",
    "        - take existing code (found in the Lesson 1d PowerPoint) and modify it to answer the below questions. \n",
    "    - Make:\n",
    "        - take what we have covered in class and create a piece of code to answer the question.\n",
    "        - most of this will be taking code that already exists from class or in the assignment and adapting it to a new problem\n",
    "\n",
    "#### Submission: Print this Jupyter Notebook as a PDF document and submit it to BlackBoard (filename should be NAME_Assignment4.pdf). "
   ]
  },
  {
   "cell_type": "markdown",
   "metadata": {},
   "source": [
    "<div style=\"background-color: #9D2235; color: white; padding: 10px; \">\n",
    "    \n",
    " ## Enter Your Name and Class Section:\n",
    "    \n",
    "</div>"
   ]
  },
  {
   "cell_type": "code",
   "execution_count": 1,
   "metadata": {},
   "outputs": [
    {
     "name": "stdin",
     "output_type": "stream",
     "text": [
      "Enter your name:  Isaiah Molina\n"
     ]
    },
    {
     "name": "stdout",
     "output_type": "stream",
     "text": [
      "Name = Isaiah Molina Good Luck on your 4rd Assignment!\n"
     ]
    }
   ],
   "source": [
    "# Run this block of code and enter your name\n",
    "name = input(\"Enter your name: \")\n",
    "\n",
    "print(\"Name =\", name + \" Good Luck on your 4rd Assignment!\")"
   ]
  },
  {
   "cell_type": "markdown",
   "metadata": {},
   "source": [
    "<div style=\"background-color: #9D2235; color: white; padding: 10px; \">\n",
    "  \n",
    "# Pandas DataFrames and Data Manipulation\n",
    "    \n",
    "</div>"
   ]
  },
  {
   "cell_type": "markdown",
   "metadata": {},
   "source": [
    "<div style=\"background-color: #9DC9D5; padding: 10px;\">\n",
    "    \n",
    "## Question 1 - Using Pandas, load the CSV file (Band_Performances.csv) into a DataFrame and Examine the Data.\n",
    "    \n",
    "</div>   \n"
   ]
  },
  {
   "cell_type": "code",
   "execution_count": 4,
   "metadata": {},
   "outputs": [],
   "source": [
    "#Import Python Libraries\n",
    "import numpy as np\n",
    "import pandas as pd\n",
    "\n",
    "# Step 1 - Create a blank DataFrame  \n",
    "\n",
    "bandperformance_df = pd.DataFrame()\n",
    "\n",
    "# step 2 - Load data from the CSV file into the DataFrame\n",
    "csv_file = \"Band_Performances.csv\"\n",
    "\n",
    "bandperformance_df = pd.read_csv(csv_file)\n"
   ]
  },
  {
   "cell_type": "markdown",
   "metadata": {},
   "source": [
    "<div style=\"background-color: #F2F2F4; padding: 10px;\">\n",
    "    <h2 style=\"margin-bottom: 10px;\">Examine the data:</h2>\n",
    " \n",
    "    \n",
    "\n",
    "</div>"
   ]
  },
  {
   "cell_type": "code",
   "execution_count": 5,
   "metadata": {},
   "outputs": [
    {
     "name": "stdout",
     "output_type": "stream",
     "text": [
      "<class 'pandas.core.frame.DataFrame'>\n",
      "RangeIndex: 11819 entries, 0 to 11818\n",
      "Data columns (total 7 columns):\n",
      " #   Column            Non-Null Count  Dtype  \n",
      "---  ------            --------------  -----  \n",
      " 0   Performance_Date  11819 non-null  object \n",
      " 1   Genre             8516 non-null   object \n",
      " 2   Band_Name         11819 non-null  object \n",
      " 3   Venue_Name        11819 non-null  object \n",
      " 4   State_Abbr        11819 non-null  object \n",
      " 5   City              11819 non-null  object \n",
      " 6   TotalRev          11819 non-null  float64\n",
      "dtypes: float64(1), object(6)\n",
      "memory usage: 646.5+ KB\n"
     ]
    }
   ],
   "source": [
    "#Step 3 - use the \"info()\" to inspect your DataFrame\n",
    "\n",
    "bandperformance_df.info()\n"
   ]
  },
  {
   "cell_type": "code",
   "execution_count": 7,
   "metadata": {},
   "outputs": [
    {
     "data": {
      "text/plain": [
       "(11819, 7)"
      ]
     },
     "execution_count": 7,
     "metadata": {},
     "output_type": "execute_result"
    }
   ],
   "source": [
    "#Step 4 - use \"shape\" to provide only the rows and columns\n",
    "\n",
    "bandperformance_df.shape\n"
   ]
  },
  {
   "cell_type": "code",
   "execution_count": 8,
   "metadata": {},
   "outputs": [
    {
     "data": {
      "text/plain": [
       "Performance_Date     object\n",
       "Genre                object\n",
       "Band_Name            object\n",
       "Venue_Name           object\n",
       "State_Abbr           object\n",
       "City                 object\n",
       "TotalRev            float64\n",
       "dtype: object"
      ]
     },
     "execution_count": 8,
     "metadata": {},
     "output_type": "execute_result"
    }
   ],
   "source": [
    "#Step 5 - use \"dtypes\" to review the column names and their data types\n",
    "\n",
    "bandperformance_df.dtypes\n"
   ]
  },
  {
   "cell_type": "code",
   "execution_count": 9,
   "metadata": {},
   "outputs": [
    {
     "data": {
      "text/html": [
       "<div>\n",
       "<style scoped>\n",
       "    .dataframe tbody tr th:only-of-type {\n",
       "        vertical-align: middle;\n",
       "    }\n",
       "\n",
       "    .dataframe tbody tr th {\n",
       "        vertical-align: top;\n",
       "    }\n",
       "\n",
       "    .dataframe thead th {\n",
       "        text-align: right;\n",
       "    }\n",
       "</style>\n",
       "<table border=\"1\" class=\"dataframe\">\n",
       "  <thead>\n",
       "    <tr style=\"text-align: right;\">\n",
       "      <th></th>\n",
       "      <th>TotalRev</th>\n",
       "    </tr>\n",
       "  </thead>\n",
       "  <tbody>\n",
       "    <tr>\n",
       "      <th>count</th>\n",
       "      <td>11819.00000</td>\n",
       "    </tr>\n",
       "    <tr>\n",
       "      <th>mean</th>\n",
       "      <td>10061.71644</td>\n",
       "    </tr>\n",
       "    <tr>\n",
       "      <th>std</th>\n",
       "      <td>17388.59790</td>\n",
       "    </tr>\n",
       "    <tr>\n",
       "      <th>min</th>\n",
       "      <td>1000.07000</td>\n",
       "    </tr>\n",
       "    <tr>\n",
       "      <th>25%</th>\n",
       "      <td>3048.87500</td>\n",
       "    </tr>\n",
       "    <tr>\n",
       "      <th>50%</th>\n",
       "      <td>5086.02000</td>\n",
       "    </tr>\n",
       "    <tr>\n",
       "      <th>75%</th>\n",
       "      <td>8103.48000</td>\n",
       "    </tr>\n",
       "    <tr>\n",
       "      <th>max</th>\n",
       "      <td>99800.54000</td>\n",
       "    </tr>\n",
       "  </tbody>\n",
       "</table>\n",
       "</div>"
      ],
      "text/plain": [
       "          TotalRev\n",
       "count  11819.00000\n",
       "mean   10061.71644\n",
       "std    17388.59790\n",
       "min     1000.07000\n",
       "25%     3048.87500\n",
       "50%     5086.02000\n",
       "75%     8103.48000\n",
       "max    99800.54000"
      ]
     },
     "execution_count": 9,
     "metadata": {},
     "output_type": "execute_result"
    }
   ],
   "source": [
    "#Step 6 - use \"describe()\" to review statical information on your DataFrame\n",
    "bandperformance_df.describe()\n"
   ]
  },
  {
   "cell_type": "code",
   "execution_count": 10,
   "metadata": {},
   "outputs": [
    {
     "data": {
      "text/html": [
       "<div>\n",
       "<style scoped>\n",
       "    .dataframe tbody tr th:only-of-type {\n",
       "        vertical-align: middle;\n",
       "    }\n",
       "\n",
       "    .dataframe tbody tr th {\n",
       "        vertical-align: top;\n",
       "    }\n",
       "\n",
       "    .dataframe thead th {\n",
       "        text-align: right;\n",
       "    }\n",
       "</style>\n",
       "<table border=\"1\" class=\"dataframe\">\n",
       "  <thead>\n",
       "    <tr style=\"text-align: right;\">\n",
       "      <th></th>\n",
       "      <th>Performance_Date</th>\n",
       "      <th>Genre</th>\n",
       "      <th>Band_Name</th>\n",
       "      <th>Venue_Name</th>\n",
       "      <th>State_Abbr</th>\n",
       "      <th>City</th>\n",
       "      <th>TotalRev</th>\n",
       "    </tr>\n",
       "  </thead>\n",
       "  <tbody>\n",
       "    <tr>\n",
       "      <th>count</th>\n",
       "      <td>11819</td>\n",
       "      <td>8516</td>\n",
       "      <td>11819</td>\n",
       "      <td>11819</td>\n",
       "      <td>11819</td>\n",
       "      <td>11819</td>\n",
       "      <td>11819.00000</td>\n",
       "    </tr>\n",
       "    <tr>\n",
       "      <th>unique</th>\n",
       "      <td>4977</td>\n",
       "      <td>6</td>\n",
       "      <td>400</td>\n",
       "      <td>18</td>\n",
       "      <td>6</td>\n",
       "      <td>18</td>\n",
       "      <td>NaN</td>\n",
       "    </tr>\n",
       "    <tr>\n",
       "      <th>top</th>\n",
       "      <td>2/20/2013</td>\n",
       "      <td>Pop</td>\n",
       "      <td>Vagabond Peng                                 ...</td>\n",
       "      <td>Amar's Bar and Grill                          ...</td>\n",
       "      <td>CA</td>\n",
       "      <td>Fort Smith                                    ...</td>\n",
       "      <td>NaN</td>\n",
       "    </tr>\n",
       "    <tr>\n",
       "      <th>freq</th>\n",
       "      <td>9</td>\n",
       "      <td>1946</td>\n",
       "      <td>78</td>\n",
       "      <td>713</td>\n",
       "      <td>4583</td>\n",
       "      <td>713</td>\n",
       "      <td>NaN</td>\n",
       "    </tr>\n",
       "    <tr>\n",
       "      <th>mean</th>\n",
       "      <td>NaN</td>\n",
       "      <td>NaN</td>\n",
       "      <td>NaN</td>\n",
       "      <td>NaN</td>\n",
       "      <td>NaN</td>\n",
       "      <td>NaN</td>\n",
       "      <td>10061.71644</td>\n",
       "    </tr>\n",
       "    <tr>\n",
       "      <th>std</th>\n",
       "      <td>NaN</td>\n",
       "      <td>NaN</td>\n",
       "      <td>NaN</td>\n",
       "      <td>NaN</td>\n",
       "      <td>NaN</td>\n",
       "      <td>NaN</td>\n",
       "      <td>17388.59790</td>\n",
       "    </tr>\n",
       "    <tr>\n",
       "      <th>min</th>\n",
       "      <td>NaN</td>\n",
       "      <td>NaN</td>\n",
       "      <td>NaN</td>\n",
       "      <td>NaN</td>\n",
       "      <td>NaN</td>\n",
       "      <td>NaN</td>\n",
       "      <td>1000.07000</td>\n",
       "    </tr>\n",
       "    <tr>\n",
       "      <th>25%</th>\n",
       "      <td>NaN</td>\n",
       "      <td>NaN</td>\n",
       "      <td>NaN</td>\n",
       "      <td>NaN</td>\n",
       "      <td>NaN</td>\n",
       "      <td>NaN</td>\n",
       "      <td>3048.87500</td>\n",
       "    </tr>\n",
       "    <tr>\n",
       "      <th>50%</th>\n",
       "      <td>NaN</td>\n",
       "      <td>NaN</td>\n",
       "      <td>NaN</td>\n",
       "      <td>NaN</td>\n",
       "      <td>NaN</td>\n",
       "      <td>NaN</td>\n",
       "      <td>5086.02000</td>\n",
       "    </tr>\n",
       "    <tr>\n",
       "      <th>75%</th>\n",
       "      <td>NaN</td>\n",
       "      <td>NaN</td>\n",
       "      <td>NaN</td>\n",
       "      <td>NaN</td>\n",
       "      <td>NaN</td>\n",
       "      <td>NaN</td>\n",
       "      <td>8103.48000</td>\n",
       "    </tr>\n",
       "    <tr>\n",
       "      <th>max</th>\n",
       "      <td>NaN</td>\n",
       "      <td>NaN</td>\n",
       "      <td>NaN</td>\n",
       "      <td>NaN</td>\n",
       "      <td>NaN</td>\n",
       "      <td>NaN</td>\n",
       "      <td>99800.54000</td>\n",
       "    </tr>\n",
       "  </tbody>\n",
       "</table>\n",
       "</div>"
      ],
      "text/plain": [
       "       Performance_Date Genre  \\\n",
       "count             11819  8516   \n",
       "unique             4977     6   \n",
       "top           2/20/2013   Pop   \n",
       "freq                  9  1946   \n",
       "mean                NaN   NaN   \n",
       "std                 NaN   NaN   \n",
       "min                 NaN   NaN   \n",
       "25%                 NaN   NaN   \n",
       "50%                 NaN   NaN   \n",
       "75%                 NaN   NaN   \n",
       "max                 NaN   NaN   \n",
       "\n",
       "                                                Band_Name  \\\n",
       "count                                               11819   \n",
       "unique                                                400   \n",
       "top     Vagabond Peng                                 ...   \n",
       "freq                                                   78   \n",
       "mean                                                  NaN   \n",
       "std                                                   NaN   \n",
       "min                                                   NaN   \n",
       "25%                                                   NaN   \n",
       "50%                                                   NaN   \n",
       "75%                                                   NaN   \n",
       "max                                                   NaN   \n",
       "\n",
       "                                               Venue_Name State_Abbr  \\\n",
       "count                                               11819      11819   \n",
       "unique                                                 18          6   \n",
       "top     Amar's Bar and Grill                          ...         CA   \n",
       "freq                                                  713       4583   \n",
       "mean                                                  NaN        NaN   \n",
       "std                                                   NaN        NaN   \n",
       "min                                                   NaN        NaN   \n",
       "25%                                                   NaN        NaN   \n",
       "50%                                                   NaN        NaN   \n",
       "75%                                                   NaN        NaN   \n",
       "max                                                   NaN        NaN   \n",
       "\n",
       "                                                     City     TotalRev  \n",
       "count                                               11819  11819.00000  \n",
       "unique                                                 18          NaN  \n",
       "top     Fort Smith                                    ...          NaN  \n",
       "freq                                                  713          NaN  \n",
       "mean                                                  NaN  10061.71644  \n",
       "std                                                   NaN  17388.59790  \n",
       "min                                                   NaN   1000.07000  \n",
       "25%                                                   NaN   3048.87500  \n",
       "50%                                                   NaN   5086.02000  \n",
       "75%                                                   NaN   8103.48000  \n",
       "max                                                   NaN  99800.54000  "
      ]
     },
     "execution_count": 10,
     "metadata": {},
     "output_type": "execute_result"
    }
   ],
   "source": [
    "#Step 7 - now use \"describe()\" to review information on all your DataFrame columns, not just TotalRev\n",
    "\n",
    "bandperformance_df.describe(include='all')\n"
   ]
  },
  {
   "cell_type": "code",
   "execution_count": 11,
   "metadata": {},
   "outputs": [
    {
     "name": "stdout",
     "output_type": "stream",
     "text": [
      "Row count: 11819\n",
      "Total Revenue: 118919426.61\n"
     ]
    }
   ],
   "source": [
    "#Step 8 - Verify Totals: calcualte the total records and sum TotalRev in your DataFrame.  \n",
    "\n",
    "row_count = bandperformance_df.shape[0]\n",
    "total_revenue = bandperformance_df['TotalRev'].sum()\n",
    "\n",
    "print(f\"Row count: {row_count}\")\n",
    "print(f\"Total Revenue: {total_revenue}\")\n",
    "\n",
    "# Note - Open the CSV file in Excel and validate that it matches.  Does it match (Answer: Yes or No)?\n",
    "#Yes"
   ]
  },
  {
   "cell_type": "markdown",
   "metadata": {},
   "source": [
    "<div style=\"background-color: #9DC9D5; padding: 10px;\">\n",
    "    \n",
    "## Question 2 - Clean up the data and make it more useful\n",
    "    \n",
    "</div>\n"
   ]
  },
  {
   "cell_type": "code",
   "execution_count": 12,
   "metadata": {},
   "outputs": [
    {
     "data": {
      "text/plain": [
       "Performance_Date       0\n",
       "Genre               3303\n",
       "Band_Name              0\n",
       "Venue_Name             0\n",
       "State_Abbr             0\n",
       "City                   0\n",
       "TotalRev               0\n",
       "dtype: int64"
      ]
     },
     "execution_count": 12,
     "metadata": {},
     "output_type": "execute_result"
    }
   ],
   "source": [
    "#Step 1 check for missing values:\n",
    "\n",
    "bandperformance_df.isnull().sum()\n"
   ]
  },
  {
   "cell_type": "code",
   "execution_count": 13,
   "metadata": {},
   "outputs": [],
   "source": [
    "#Step 2 - fix the missing values: set the Genre NaN records = \"NA\"  \n",
    "#tip - the Genre is datatype object (the example in the PowerPoint used float), so you will need to modify \n",
    "\n",
    "bandperformance_df['Genre'].fillna('NA', inplace = True)\n"
   ]
  },
  {
   "cell_type": "code",
   "execution_count": 14,
   "metadata": {},
   "outputs": [
    {
     "data": {
      "text/plain": [
       "Performance_Date    0\n",
       "Genre               0\n",
       "Band_Name           0\n",
       "Venue_Name          0\n",
       "State_Abbr          0\n",
       "City                0\n",
       "TotalRev            0\n",
       "dtype: int64"
      ]
     },
     "execution_count": 14,
     "metadata": {},
     "output_type": "execute_result"
    }
   ],
   "source": [
    "#Step 3 - Recheck for missing values, are they all Zero?\n",
    "\n",
    "bandperformance_df.isnull().sum()\n"
   ]
  },
  {
   "cell_type": "code",
   "execution_count": 15,
   "metadata": {},
   "outputs": [],
   "source": [
    "#Step 4 - the State_Abbr field has Texas spelled out, replace the value with TX.\n",
    "\n",
    "bandperformance_df['State_Abbr'].replace('Texas', 'TX', inplace = True)\n"
   ]
  },
  {
   "cell_type": "code",
   "execution_count": 17,
   "metadata": {},
   "outputs": [
    {
     "data": {
      "text/plain": [
       "Performance_Date    datetime64[ns]\n",
       "Genre                       object\n",
       "Band_Name                   object\n",
       "Venue_Name                  object\n",
       "State_Abbr                  object\n",
       "City                        object\n",
       "TotalRev                   float64\n",
       "dtype: object"
      ]
     },
     "execution_count": 17,
     "metadata": {},
     "output_type": "execute_result"
    }
   ],
   "source": [
    "#Step 5 - Convert the Performance_Date from datatype object to datetime\n",
    "\n",
    "bandperformance_df['Performance_Date'] = pd.to_datetime(bandperformance_df['Performance_Date'])\n",
    "\n",
    "#verify that it has changed using  \"dtypes\" \n",
    "\n",
    "bandperformance_df.dtypes\n"
   ]
  },
  {
   "cell_type": "markdown",
   "metadata": {},
   "source": [
    "<div style=\"background-color: #9DC9D5; padding: 10px;\">\n",
    "    \n",
    "## Question 3 - Create new columns \n",
    "</div>\n"
   ]
  },
  {
   "cell_type": "code",
   "execution_count": 18,
   "metadata": {},
   "outputs": [],
   "source": [
    "#Step 1 - Create a new column for the 'Year_Qtr' column by formatting 'Performance_Date' with the to_period function\n",
    "\n",
    "bandperformance_df['Year_Qtr'] = bandperformance_df['Performance_Date'].dt.to_period(\"Q\")\n"
   ]
  },
  {
   "cell_type": "code",
   "execution_count": 20,
   "metadata": {},
   "outputs": [
    {
     "name": "stdout",
     "output_type": "stream",
     "text": [
      "0         9\n",
      "1         9\n",
      "2        10\n",
      "3        10\n",
      "4        10\n",
      "         ..\n",
      "11814     5\n",
      "11815     5\n",
      "11816     5\n",
      "11817     6\n",
      "11818     6\n",
      "Name: Month, Length: 11819, dtype: int64\n"
     ]
    }
   ],
   "source": [
    "#Step 2 - Create a new column of your choice using either the bin_edges and bin lables approach or the lambda function\n",
    "\n",
    "bandperformance_df['Month'] = bandperformance_df['Performance_Date'].apply(lambda x: x.month)\n",
    "print(bandperformance_df['Month'])"
   ]
  },
  {
   "cell_type": "markdown",
   "metadata": {},
   "source": [
    "<div style=\"background-color: #9DC9D5; padding: 10px;\">\n",
    "    \n",
    "## Question 4 - Aggregate functions to further review your DataFrame\n",
    "\n",
    "\n",
    "</div>"
   ]
  },
  {
   "cell_type": "code",
   "execution_count": 21,
   "metadata": {},
   "outputs": [
    {
     "data": {
      "text/plain": [
       "Year_Qtr\n",
       "1998Q1     85\n",
       "1998Q2     95\n",
       "1998Q3     49\n",
       "1998Q4     34\n",
       "1999Q1     30\n",
       "         ... \n",
       "2014Q3    301\n",
       "2014Q4    244\n",
       "2015Q1    134\n",
       "2015Q2     32\n",
       "2015Q3      3\n",
       "Freq: Q-DEC, Length: 71, dtype: int64"
      ]
     },
     "execution_count": 21,
     "metadata": {},
     "output_type": "execute_result"
    }
   ],
   "source": [
    "#Step 1 - Review the distributions of your newly created group (record count) using the groupby function\n",
    "\n",
    "bandperformance_df.groupby('Year_Qtr').size()\n"
   ]
  },
  {
   "cell_type": "code",
   "execution_count": 22,
   "metadata": {},
   "outputs": [
    {
     "data": {
      "text/plain": [
       "7"
      ]
     },
     "execution_count": 22,
     "metadata": {},
     "output_type": "execute_result"
    }
   ],
   "source": [
    "#Step 2 - How many unique Genres are in the data?\n",
    "\n",
    "bandperformance_df['Genre'].nunique()\n"
   ]
  },
  {
   "cell_type": "code",
   "execution_count": 23,
   "metadata": {},
   "outputs": [
    {
     "data": {
      "text/plain": [
       "array(['NA', 'Rock', 'Jazz', 'Rap', 'Gospel', 'Pop', 'Classical'],\n",
       "      dtype=object)"
      ]
     },
     "execution_count": 23,
     "metadata": {},
     "output_type": "execute_result"
    }
   ],
   "source": [
    "#Step 3 - Print out the unique list of Genres in the data:\n",
    "\n",
    "bandperformance_df['Genre'].unique()\n"
   ]
  },
  {
   "cell_type": "code",
   "execution_count": 24,
   "metadata": {},
   "outputs": [
    {
     "data": {
      "text/plain": [
       "State_Abbr\n",
       "AR    27117026.86\n",
       "AZ     6512111.71\n",
       "CA    44442631.23\n",
       "LA    13363373.09\n",
       "OK     7712094.73\n",
       "TX    19772188.99\n",
       "Name: TotalRev, dtype: float64"
      ]
     },
     "execution_count": 24,
     "metadata": {},
     "output_type": "execute_result"
    }
   ],
   "source": [
    "#Step 4 - What is the sum of TotalRev by State_Abbr\n",
    "\n",
    "bandperformance_df.groupby('State_Abbr')['TotalRev'].sum()\n"
   ]
  },
  {
   "cell_type": "code",
   "execution_count": 26,
   "metadata": {},
   "outputs": [
    {
     "data": {
      "text/plain": [
       "State_Abbr\n",
       "AR    10271.601083\n",
       "AZ    10207.071646\n",
       "CA     9697.279343\n",
       "LA    10572.288837\n",
       "OK    11324.661865\n",
       "TX     9822.249871\n",
       "Name: TotalRev, dtype: float64"
      ]
     },
     "execution_count": 26,
     "metadata": {},
     "output_type": "execute_result"
    }
   ],
   "source": [
    "#Step 5 - What is the Average TotalRev by State_Abbr\n",
    "\n",
    "bandperformance_df.groupby('State_Abbr')['TotalRev'].mean()\n"
   ]
  },
  {
   "cell_type": "markdown",
   "metadata": {},
   "source": [
    "<div style=\"background-color: #9DC9D5; padding: 10px;\">\n",
    "    \n",
    "## Questions 5 - Filter and Sorting your DataFrame\n",
    "</div>\n"
   ]
  },
  {
   "cell_type": "code",
   "execution_count": 27,
   "metadata": {},
   "outputs": [
    {
     "data": {
      "text/html": [
       "<div>\n",
       "<style scoped>\n",
       "    .dataframe tbody tr th:only-of-type {\n",
       "        vertical-align: middle;\n",
       "    }\n",
       "\n",
       "    .dataframe tbody tr th {\n",
       "        vertical-align: top;\n",
       "    }\n",
       "\n",
       "    .dataframe thead th {\n",
       "        text-align: right;\n",
       "    }\n",
       "</style>\n",
       "<table border=\"1\" class=\"dataframe\">\n",
       "  <thead>\n",
       "    <tr style=\"text-align: right;\">\n",
       "      <th></th>\n",
       "      <th>Performance_Date</th>\n",
       "      <th>Genre</th>\n",
       "      <th>Band_Name</th>\n",
       "      <th>Venue_Name</th>\n",
       "      <th>State_Abbr</th>\n",
       "      <th>City</th>\n",
       "      <th>TotalRev</th>\n",
       "      <th>Year_Qtr</th>\n",
       "      <th>Month</th>\n",
       "    </tr>\n",
       "  </thead>\n",
       "  <tbody>\n",
       "    <tr>\n",
       "      <th>6</th>\n",
       "      <td>2009-10-09</td>\n",
       "      <td>Rap</td>\n",
       "      <td>Early Anisha                                  ...</td>\n",
       "      <td>Dorothy's                                     ...</td>\n",
       "      <td>CA</td>\n",
       "      <td>Redwood City                                  ...</td>\n",
       "      <td>50567.91</td>\n",
       "      <td>2009Q4</td>\n",
       "      <td>10</td>\n",
       "    </tr>\n",
       "    <tr>\n",
       "      <th>47</th>\n",
       "      <td>2004-11-13</td>\n",
       "      <td>Pop</td>\n",
       "      <td>The Craven Televisions                        ...</td>\n",
       "      <td>Tadashi's                                     ...</td>\n",
       "      <td>CA</td>\n",
       "      <td>San Jose                                      ...</td>\n",
       "      <td>15511.91</td>\n",
       "      <td>2004Q4</td>\n",
       "      <td>11</td>\n",
       "    </tr>\n",
       "    <tr>\n",
       "      <th>121</th>\n",
       "      <td>2010-04-03</td>\n",
       "      <td>Pop</td>\n",
       "      <td>Capricious Future                             ...</td>\n",
       "      <td>Cheetah Expressway Bar                        ...</td>\n",
       "      <td>CA</td>\n",
       "      <td>Mission Viejo                                 ...</td>\n",
       "      <td>70171.54</td>\n",
       "      <td>2010Q2</td>\n",
       "      <td>4</td>\n",
       "    </tr>\n",
       "    <tr>\n",
       "      <th>139</th>\n",
       "      <td>2010-06-19</td>\n",
       "      <td>Jazz</td>\n",
       "      <td>Gladden The Doom                              ...</td>\n",
       "      <td>Anjali's on Puma                              ...</td>\n",
       "      <td>CA</td>\n",
       "      <td>Petaluma                                      ...</td>\n",
       "      <td>72681.02</td>\n",
       "      <td>2010Q2</td>\n",
       "      <td>6</td>\n",
       "    </tr>\n",
       "    <tr>\n",
       "      <th>144</th>\n",
       "      <td>2010-07-12</td>\n",
       "      <td>Classical</td>\n",
       "      <td>The Orange Experiment                         ...</td>\n",
       "      <td>Yukiko's                                      ...</td>\n",
       "      <td>CA</td>\n",
       "      <td>Santee                                        ...</td>\n",
       "      <td>35113.56</td>\n",
       "      <td>2010Q3</td>\n",
       "      <td>7</td>\n",
       "    </tr>\n",
       "    <tr>\n",
       "      <th>...</th>\n",
       "      <td>...</td>\n",
       "      <td>...</td>\n",
       "      <td>...</td>\n",
       "      <td>...</td>\n",
       "      <td>...</td>\n",
       "      <td>...</td>\n",
       "      <td>...</td>\n",
       "      <td>...</td>\n",
       "      <td>...</td>\n",
       "    </tr>\n",
       "    <tr>\n",
       "      <th>11600</th>\n",
       "      <td>2008-12-21</td>\n",
       "      <td>NA</td>\n",
       "      <td>The Khatri Cartel                             ...</td>\n",
       "      <td>Yukiko's                                      ...</td>\n",
       "      <td>CA</td>\n",
       "      <td>Santee                                        ...</td>\n",
       "      <td>51039.26</td>\n",
       "      <td>2008Q4</td>\n",
       "      <td>12</td>\n",
       "    </tr>\n",
       "    <tr>\n",
       "      <th>11634</th>\n",
       "      <td>2009-10-25</td>\n",
       "      <td>Pop</td>\n",
       "      <td>Incompetent Zhou                              ...</td>\n",
       "      <td>Madison Road Bar                              ...</td>\n",
       "      <td>CA</td>\n",
       "      <td>Oceanside                                     ...</td>\n",
       "      <td>56445.79</td>\n",
       "      <td>2009Q4</td>\n",
       "      <td>10</td>\n",
       "    </tr>\n",
       "    <tr>\n",
       "      <th>11636</th>\n",
       "      <td>2009-11-04</td>\n",
       "      <td>NA</td>\n",
       "      <td>The Lin Experiment                            ...</td>\n",
       "      <td>Dorothy's                                     ...</td>\n",
       "      <td>CA</td>\n",
       "      <td>Redwood City                                  ...</td>\n",
       "      <td>70999.71</td>\n",
       "      <td>2009Q4</td>\n",
       "      <td>11</td>\n",
       "    </tr>\n",
       "    <tr>\n",
       "      <th>11653</th>\n",
       "      <td>2009-06-09</td>\n",
       "      <td>Jazz</td>\n",
       "      <td>The Nostalgic Fields                          ...</td>\n",
       "      <td>Cheetah Expressway Bar                        ...</td>\n",
       "      <td>CA</td>\n",
       "      <td>Mission Viejo                                 ...</td>\n",
       "      <td>50776.20</td>\n",
       "      <td>2009Q2</td>\n",
       "      <td>6</td>\n",
       "    </tr>\n",
       "    <tr>\n",
       "      <th>11759</th>\n",
       "      <td>2010-03-10</td>\n",
       "      <td>Gospel</td>\n",
       "      <td>Magical Pradeep                               ...</td>\n",
       "      <td>Dorothy's                                     ...</td>\n",
       "      <td>CA</td>\n",
       "      <td>Redwood City                                  ...</td>\n",
       "      <td>83821.54</td>\n",
       "      <td>2010Q1</td>\n",
       "      <td>3</td>\n",
       "    </tr>\n",
       "  </tbody>\n",
       "</table>\n",
       "<p>403 rows × 9 columns</p>\n",
       "</div>"
      ],
      "text/plain": [
       "      Performance_Date      Genre  \\\n",
       "6           2009-10-09        Rap   \n",
       "47          2004-11-13        Pop   \n",
       "121         2010-04-03        Pop   \n",
       "139         2010-06-19       Jazz   \n",
       "144         2010-07-12  Classical   \n",
       "...                ...        ...   \n",
       "11600       2008-12-21         NA   \n",
       "11634       2009-10-25        Pop   \n",
       "11636       2009-11-04         NA   \n",
       "11653       2009-06-09       Jazz   \n",
       "11759       2010-03-10     Gospel   \n",
       "\n",
       "                                               Band_Name  \\\n",
       "6      Early Anisha                                  ...   \n",
       "47     The Craven Televisions                        ...   \n",
       "121    Capricious Future                             ...   \n",
       "139    Gladden The Doom                              ...   \n",
       "144    The Orange Experiment                         ...   \n",
       "...                                                  ...   \n",
       "11600  The Khatri Cartel                             ...   \n",
       "11634  Incompetent Zhou                              ...   \n",
       "11636  The Lin Experiment                            ...   \n",
       "11653  The Nostalgic Fields                          ...   \n",
       "11759  Magical Pradeep                               ...   \n",
       "\n",
       "                                              Venue_Name State_Abbr  \\\n",
       "6      Dorothy's                                     ...         CA   \n",
       "47     Tadashi's                                     ...         CA   \n",
       "121    Cheetah Expressway Bar                        ...         CA   \n",
       "139    Anjali's on Puma                              ...         CA   \n",
       "144    Yukiko's                                      ...         CA   \n",
       "...                                                  ...        ...   \n",
       "11600  Yukiko's                                      ...         CA   \n",
       "11634  Madison Road Bar                              ...         CA   \n",
       "11636  Dorothy's                                     ...         CA   \n",
       "11653  Cheetah Expressway Bar                        ...         CA   \n",
       "11759  Dorothy's                                     ...         CA   \n",
       "\n",
       "                                                    City  TotalRev Year_Qtr  \\\n",
       "6      Redwood City                                  ...  50567.91   2009Q4   \n",
       "47     San Jose                                      ...  15511.91   2004Q4   \n",
       "121    Mission Viejo                                 ...  70171.54   2010Q2   \n",
       "139    Petaluma                                      ...  72681.02   2010Q2   \n",
       "144    Santee                                        ...  35113.56   2010Q3   \n",
       "...                                                  ...       ...      ...   \n",
       "11600  Santee                                        ...  51039.26   2008Q4   \n",
       "11634  Oceanside                                     ...  56445.79   2009Q4   \n",
       "11636  Redwood City                                  ...  70999.71   2009Q4   \n",
       "11653  Mission Viejo                                 ...  50776.20   2009Q2   \n",
       "11759  Redwood City                                  ...  83821.54   2010Q1   \n",
       "\n",
       "       Month  \n",
       "6         10  \n",
       "47        11  \n",
       "121        4  \n",
       "139        6  \n",
       "144        7  \n",
       "...      ...  \n",
       "11600     12  \n",
       "11634     10  \n",
       "11636     11  \n",
       "11653      6  \n",
       "11759      3  \n",
       "\n",
       "[403 rows x 9 columns]"
      ]
     },
     "execution_count": 27,
     "metadata": {},
     "output_type": "execute_result"
    }
   ],
   "source": [
    "#Step 1 - using the Boolean mask technique, filter your dataframe where TotalRev > 15000 and State_Abbr = CA\n",
    "\n",
    "bandperformance_df[(bandperformance_df['TotalRev'] > 15000) & (bandperformance_df['State_Abbr'] == 'CA')]\n",
    "\n"
   ]
  },
  {
   "cell_type": "code",
   "execution_count": 29,
   "metadata": {},
   "outputs": [],
   "source": [
    "#Step 2 - using the query method, filter your dataframe where Performance_Date between 2/1/09-6/30/09 \n",
    "#         and save the results to a new dataframe with your filtered results\n",
    "\n",
    "new_df = bandperformance_df.query('Performance_Date >= \"2009-02-01\" and Performance_Date <= \"2009-06-30\"')\n"
   ]
  },
  {
   "cell_type": "code",
   "execution_count": 30,
   "metadata": {},
   "outputs": [
    {
     "data": {
      "text/html": [
       "<div>\n",
       "<style scoped>\n",
       "    .dataframe tbody tr th:only-of-type {\n",
       "        vertical-align: middle;\n",
       "    }\n",
       "\n",
       "    .dataframe tbody tr th {\n",
       "        vertical-align: top;\n",
       "    }\n",
       "\n",
       "    .dataframe thead th {\n",
       "        text-align: right;\n",
       "    }\n",
       "</style>\n",
       "<table border=\"1\" class=\"dataframe\">\n",
       "  <thead>\n",
       "    <tr style=\"text-align: right;\">\n",
       "      <th></th>\n",
       "      <th>Performance_Date</th>\n",
       "      <th>Genre</th>\n",
       "      <th>Band_Name</th>\n",
       "      <th>Venue_Name</th>\n",
       "      <th>State_Abbr</th>\n",
       "      <th>City</th>\n",
       "      <th>TotalRev</th>\n",
       "      <th>Year_Qtr</th>\n",
       "      <th>Month</th>\n",
       "    </tr>\n",
       "  </thead>\n",
       "  <tbody>\n",
       "    <tr>\n",
       "      <th>6826</th>\n",
       "      <td>2009-06-30</td>\n",
       "      <td>Rock</td>\n",
       "      <td>Kali And The Fields                           ...</td>\n",
       "      <td>Matthew's Bar and Grill                       ...</td>\n",
       "      <td>AR</td>\n",
       "      <td>Little Rock                                   ...</td>\n",
       "      <td>3615.58</td>\n",
       "      <td>2009Q2</td>\n",
       "      <td>6</td>\n",
       "    </tr>\n",
       "    <tr>\n",
       "      <th>11657</th>\n",
       "      <td>2009-06-29</td>\n",
       "      <td>NA</td>\n",
       "      <td>Guo Chen                                      ...</td>\n",
       "      <td>Gang's on Third                               ...</td>\n",
       "      <td>TX</td>\n",
       "      <td>Fort Stockton                                 ...</td>\n",
       "      <td>8679.28</td>\n",
       "      <td>2009Q2</td>\n",
       "      <td>6</td>\n",
       "    </tr>\n",
       "    <tr>\n",
       "      <th>3387</th>\n",
       "      <td>2009-06-29</td>\n",
       "      <td>Classical</td>\n",
       "      <td>Hurt The Abstraction                          ...</td>\n",
       "      <td>Gang's on Third                               ...</td>\n",
       "      <td>TX</td>\n",
       "      <td>Fort Stockton                                 ...</td>\n",
       "      <td>9649.81</td>\n",
       "      <td>2009Q2</td>\n",
       "      <td>6</td>\n",
       "    </tr>\n",
       "    <tr>\n",
       "      <th>992</th>\n",
       "      <td>2009-06-29</td>\n",
       "      <td>Classical</td>\n",
       "      <td>Lian He                                       ...</td>\n",
       "      <td>Cheetah Expressway Bar                        ...</td>\n",
       "      <td>CA</td>\n",
       "      <td>Mission Viejo                                 ...</td>\n",
       "      <td>92021.15</td>\n",
       "      <td>2009Q2</td>\n",
       "      <td>6</td>\n",
       "    </tr>\n",
       "    <tr>\n",
       "      <th>991</th>\n",
       "      <td>2009-06-28</td>\n",
       "      <td>NA</td>\n",
       "      <td>Cry The Agent                                 ...</td>\n",
       "      <td>Jessica's on Wilson                           ...</td>\n",
       "      <td>AR</td>\n",
       "      <td>Atkins                                        ...</td>\n",
       "      <td>3867.59</td>\n",
       "      <td>2009Q2</td>\n",
       "      <td>6</td>\n",
       "    </tr>\n",
       "    <tr>\n",
       "      <th>...</th>\n",
       "      <td>...</td>\n",
       "      <td>...</td>\n",
       "      <td>...</td>\n",
       "      <td>...</td>\n",
       "      <td>...</td>\n",
       "      <td>...</td>\n",
       "      <td>...</td>\n",
       "      <td>...</td>\n",
       "      <td>...</td>\n",
       "    </tr>\n",
       "    <tr>\n",
       "      <th>10248</th>\n",
       "      <td>2009-02-02</td>\n",
       "      <td>Rock</td>\n",
       "      <td>Takumi Yoshida                                ...</td>\n",
       "      <td>Grace's                                       ...</td>\n",
       "      <td>TX</td>\n",
       "      <td>Garland                                       ...</td>\n",
       "      <td>3498.86</td>\n",
       "      <td>2009Q1</td>\n",
       "      <td>2</td>\n",
       "    </tr>\n",
       "    <tr>\n",
       "      <th>11614</th>\n",
       "      <td>2009-02-02</td>\n",
       "      <td>NA</td>\n",
       "      <td>The Castillo Group                            ...</td>\n",
       "      <td>Madison Road Bar                              ...</td>\n",
       "      <td>CA</td>\n",
       "      <td>Oceanside                                     ...</td>\n",
       "      <td>8704.24</td>\n",
       "      <td>2009Q1</td>\n",
       "      <td>2</td>\n",
       "    </tr>\n",
       "    <tr>\n",
       "      <th>571</th>\n",
       "      <td>2009-02-01</td>\n",
       "      <td>Rap</td>\n",
       "      <td>Ordinary Honor                                ...</td>\n",
       "      <td>Dorothy's                                     ...</td>\n",
       "      <td>CA</td>\n",
       "      <td>Redwood City                                  ...</td>\n",
       "      <td>7083.98</td>\n",
       "      <td>2009Q1</td>\n",
       "      <td>2</td>\n",
       "    </tr>\n",
       "    <tr>\n",
       "      <th>10247</th>\n",
       "      <td>2009-02-01</td>\n",
       "      <td>NA</td>\n",
       "      <td>The Macho Beings                              ...</td>\n",
       "      <td>Cheetah Expressway Bar                        ...</td>\n",
       "      <td>CA</td>\n",
       "      <td>Mission Viejo                                 ...</td>\n",
       "      <td>2069.29</td>\n",
       "      <td>2009Q1</td>\n",
       "      <td>2</td>\n",
       "    </tr>\n",
       "    <tr>\n",
       "      <th>572</th>\n",
       "      <td>2009-02-01</td>\n",
       "      <td>Jazz</td>\n",
       "      <td>The Yoshida Gamble                            ...</td>\n",
       "      <td>Dorothy's                                     ...</td>\n",
       "      <td>CA</td>\n",
       "      <td>Redwood City                                  ...</td>\n",
       "      <td>8318.43</td>\n",
       "      <td>2009Q1</td>\n",
       "      <td>2</td>\n",
       "    </tr>\n",
       "  </tbody>\n",
       "</table>\n",
       "<p>331 rows × 9 columns</p>\n",
       "</div>"
      ],
      "text/plain": [
       "      Performance_Date      Genre  \\\n",
       "6826        2009-06-30       Rock   \n",
       "11657       2009-06-29         NA   \n",
       "3387        2009-06-29  Classical   \n",
       "992         2009-06-29  Classical   \n",
       "991         2009-06-28         NA   \n",
       "...                ...        ...   \n",
       "10248       2009-02-02       Rock   \n",
       "11614       2009-02-02         NA   \n",
       "571         2009-02-01        Rap   \n",
       "10247       2009-02-01         NA   \n",
       "572         2009-02-01       Jazz   \n",
       "\n",
       "                                               Band_Name  \\\n",
       "6826   Kali And The Fields                           ...   \n",
       "11657  Guo Chen                                      ...   \n",
       "3387   Hurt The Abstraction                          ...   \n",
       "992    Lian He                                       ...   \n",
       "991    Cry The Agent                                 ...   \n",
       "...                                                  ...   \n",
       "10248  Takumi Yoshida                                ...   \n",
       "11614  The Castillo Group                            ...   \n",
       "571    Ordinary Honor                                ...   \n",
       "10247  The Macho Beings                              ...   \n",
       "572    The Yoshida Gamble                            ...   \n",
       "\n",
       "                                              Venue_Name State_Abbr  \\\n",
       "6826   Matthew's Bar and Grill                       ...         AR   \n",
       "11657  Gang's on Third                               ...         TX   \n",
       "3387   Gang's on Third                               ...         TX   \n",
       "992    Cheetah Expressway Bar                        ...         CA   \n",
       "991    Jessica's on Wilson                           ...         AR   \n",
       "...                                                  ...        ...   \n",
       "10248  Grace's                                       ...         TX   \n",
       "11614  Madison Road Bar                              ...         CA   \n",
       "571    Dorothy's                                     ...         CA   \n",
       "10247  Cheetah Expressway Bar                        ...         CA   \n",
       "572    Dorothy's                                     ...         CA   \n",
       "\n",
       "                                                    City  TotalRev Year_Qtr  \\\n",
       "6826   Little Rock                                   ...   3615.58   2009Q2   \n",
       "11657  Fort Stockton                                 ...   8679.28   2009Q2   \n",
       "3387   Fort Stockton                                 ...   9649.81   2009Q2   \n",
       "992    Mission Viejo                                 ...  92021.15   2009Q2   \n",
       "991    Atkins                                        ...   3867.59   2009Q2   \n",
       "...                                                  ...       ...      ...   \n",
       "10248  Garland                                       ...   3498.86   2009Q1   \n",
       "11614  Oceanside                                     ...   8704.24   2009Q1   \n",
       "571    Redwood City                                  ...   7083.98   2009Q1   \n",
       "10247  Mission Viejo                                 ...   2069.29   2009Q1   \n",
       "572    Redwood City                                  ...   8318.43   2009Q1   \n",
       "\n",
       "       Month  \n",
       "6826       6  \n",
       "11657      6  \n",
       "3387       6  \n",
       "992        6  \n",
       "991        6  \n",
       "...      ...  \n",
       "10248      2  \n",
       "11614      2  \n",
       "571        2  \n",
       "10247      2  \n",
       "572        2  \n",
       "\n",
       "[331 rows x 9 columns]"
      ]
     },
     "execution_count": 30,
     "metadata": {},
     "output_type": "execute_result"
    }
   ],
   "source": [
    "#Step 3 - Sort your newly created dataframe by Performance Date (descending) and Band_Name (ascending)\n",
    "\n",
    "new_df.sort_values(by=['Performance_Date', 'Band_Name'], ascending=[False, True])\n"
   ]
  },
  {
   "cell_type": "code",
   "execution_count": null,
   "metadata": {},
   "outputs": [],
   "source": []
  }
 ],
 "metadata": {
  "kernelspec": {
   "display_name": "Python 3 (ipykernel)",
   "language": "python",
   "name": "python3"
  },
  "language_info": {
   "codemirror_mode": {
    "name": "ipython",
    "version": 3
   },
   "file_extension": ".py",
   "mimetype": "text/x-python",
   "name": "python",
   "nbconvert_exporter": "python",
   "pygments_lexer": "ipython3",
   "version": "3.8.16"
  },
  "vscode": {
   "interpreter": {
    "hash": "d4d1e4263499bec80672ea0156c357c1ee493ec2b1c70f0acce89fc37c4a6abe"
   }
  }
 },
 "nbformat": 4,
 "nbformat_minor": 4
}
